{
 "cells": [
  {
   "cell_type": "code",
   "execution_count": 1,
   "metadata": {},
   "outputs": [
    {
     "name": "stderr",
     "output_type": "stream",
     "text": [
      "C:\\Users\\ryano\\anaconda3\\envs\\tf_gpu\\lib\\site-packages\\tensorflow\\python\\framework\\dtypes.py:516: FutureWarning: Passing (type, 1) or '1type' as a synonym of type is deprecated; in a future version of numpy, it will be understood as (type, (1,)) / '(1,)type'.\n",
      "  _np_qint8 = np.dtype([(\"qint8\", np.int8, 1)])\n",
      "C:\\Users\\ryano\\anaconda3\\envs\\tf_gpu\\lib\\site-packages\\tensorflow\\python\\framework\\dtypes.py:517: FutureWarning: Passing (type, 1) or '1type' as a synonym of type is deprecated; in a future version of numpy, it will be understood as (type, (1,)) / '(1,)type'.\n",
      "  _np_quint8 = np.dtype([(\"quint8\", np.uint8, 1)])\n",
      "C:\\Users\\ryano\\anaconda3\\envs\\tf_gpu\\lib\\site-packages\\tensorflow\\python\\framework\\dtypes.py:518: FutureWarning: Passing (type, 1) or '1type' as a synonym of type is deprecated; in a future version of numpy, it will be understood as (type, (1,)) / '(1,)type'.\n",
      "  _np_qint16 = np.dtype([(\"qint16\", np.int16, 1)])\n",
      "C:\\Users\\ryano\\anaconda3\\envs\\tf_gpu\\lib\\site-packages\\tensorflow\\python\\framework\\dtypes.py:519: FutureWarning: Passing (type, 1) or '1type' as a synonym of type is deprecated; in a future version of numpy, it will be understood as (type, (1,)) / '(1,)type'.\n",
      "  _np_quint16 = np.dtype([(\"quint16\", np.uint16, 1)])\n",
      "C:\\Users\\ryano\\anaconda3\\envs\\tf_gpu\\lib\\site-packages\\tensorflow\\python\\framework\\dtypes.py:520: FutureWarning: Passing (type, 1) or '1type' as a synonym of type is deprecated; in a future version of numpy, it will be understood as (type, (1,)) / '(1,)type'.\n",
      "  _np_qint32 = np.dtype([(\"qint32\", np.int32, 1)])\n",
      "C:\\Users\\ryano\\anaconda3\\envs\\tf_gpu\\lib\\site-packages\\tensorflow\\python\\framework\\dtypes.py:525: FutureWarning: Passing (type, 1) or '1type' as a synonym of type is deprecated; in a future version of numpy, it will be understood as (type, (1,)) / '(1,)type'.\n",
      "  np_resource = np.dtype([(\"resource\", np.ubyte, 1)])\n",
      "C:\\Users\\ryano\\anaconda3\\envs\\tf_gpu\\lib\\site-packages\\tensorboard\\compat\\tensorflow_stub\\dtypes.py:541: FutureWarning: Passing (type, 1) or '1type' as a synonym of type is deprecated; in a future version of numpy, it will be understood as (type, (1,)) / '(1,)type'.\n",
      "  _np_qint8 = np.dtype([(\"qint8\", np.int8, 1)])\n",
      "C:\\Users\\ryano\\anaconda3\\envs\\tf_gpu\\lib\\site-packages\\tensorboard\\compat\\tensorflow_stub\\dtypes.py:542: FutureWarning: Passing (type, 1) or '1type' as a synonym of type is deprecated; in a future version of numpy, it will be understood as (type, (1,)) / '(1,)type'.\n",
      "  _np_quint8 = np.dtype([(\"quint8\", np.uint8, 1)])\n",
      "C:\\Users\\ryano\\anaconda3\\envs\\tf_gpu\\lib\\site-packages\\tensorboard\\compat\\tensorflow_stub\\dtypes.py:543: FutureWarning: Passing (type, 1) or '1type' as a synonym of type is deprecated; in a future version of numpy, it will be understood as (type, (1,)) / '(1,)type'.\n",
      "  _np_qint16 = np.dtype([(\"qint16\", np.int16, 1)])\n",
      "C:\\Users\\ryano\\anaconda3\\envs\\tf_gpu\\lib\\site-packages\\tensorboard\\compat\\tensorflow_stub\\dtypes.py:544: FutureWarning: Passing (type, 1) or '1type' as a synonym of type is deprecated; in a future version of numpy, it will be understood as (type, (1,)) / '(1,)type'.\n",
      "  _np_quint16 = np.dtype([(\"quint16\", np.uint16, 1)])\n",
      "C:\\Users\\ryano\\anaconda3\\envs\\tf_gpu\\lib\\site-packages\\tensorboard\\compat\\tensorflow_stub\\dtypes.py:545: FutureWarning: Passing (type, 1) or '1type' as a synonym of type is deprecated; in a future version of numpy, it will be understood as (type, (1,)) / '(1,)type'.\n",
      "  _np_qint32 = np.dtype([(\"qint32\", np.int32, 1)])\n",
      "C:\\Users\\ryano\\anaconda3\\envs\\tf_gpu\\lib\\site-packages\\tensorboard\\compat\\tensorflow_stub\\dtypes.py:550: FutureWarning: Passing (type, 1) or '1type' as a synonym of type is deprecated; in a future version of numpy, it will be understood as (type, (1,)) / '(1,)type'.\n",
      "  np_resource = np.dtype([(\"resource\", np.ubyte, 1)])\n"
     ]
    },
    {
     "name": "stdout",
     "output_type": "stream",
     "text": [
      "loading 150000 memories...\n"
     ]
    }
   ],
   "source": [
    "import tensorflow as tf\n",
    "from environment import Environment\n",
    "from agent import Agent\n",
    "from logger import Logger\n",
    "\n",
    "if __name__ == '__main__':\n",
    "    tf.compat.v1.enable_eager_execution()\n",
    "    tf.device(\"/gpu:0\")\n",
    "\n",
    "    # create environment object\n",
    "    env = Environment(space_sleep=0.55, no_action_sleep=0.02)\n",
    "    logger = Logger(append_existing_log=False)\n",
    "\n",
    "    memory_fp = 'C:/Users/ryano/rl_projects/trex_memory/memory.pkl'\n",
    "    save_path = 'C:/Users/ryano/repos/deep-rl-trex/model/model-weights-noisy'\n",
    "\n",
    "    mem_length = 150000\n",
    "\n",
    "    agent = Agent(env,\n",
    "                  tf.keras.optimizers.Adam(learning_rate=0.0001),\n",
    "                  loss='mse',\n",
    "                  memory_length=mem_length,\n",
    "                  dueling=True,\n",
    "                  noisy_net=True,\n",
    "                  egreedy=True,\n",
    "                  save_memory=None,\n",
    "                  save_weights=None,\n",
    "                  verbose_action=True)\n",
    "\n",
    "    # agent.load_weights(save_path)\n",
    "    agent.load_memory(memory_fp)\n",
    "    agent.set_beta_schedule(beta_start=0.4, beta_max=1, annealed_samplings=30000)\n",
    "    # agent.set_epsilon_decay_schedule(epsilon=0.0000001, epsilon_min=0.0000001, annealed_steps=50000)\n",
    "\n"
   ]
  },
  {
   "cell_type": "code",
   "execution_count": 3,
   "metadata": {},
   "outputs": [],
   "source": [
    "import numpy as np\n",
    "import matplotlib.pyplot as plt"
   ]
  },
  {
   "cell_type": "code",
   "execution_count": 4,
   "metadata": {},
   "outputs": [
    {
     "data": {
      "text/plain": [
       "(26, 210)"
      ]
     },
     "execution_count": 4,
     "metadata": {},
     "output_type": "execute_result"
    }
   ],
   "source": [
    "np.squeeze(env._grab_sct()).shape"
   ]
  },
  {
   "cell_type": "code",
   "execution_count": 13,
   "metadata": {},
   "outputs": [
    {
     "data": {
      "text/plain": [
       "<matplotlib.image.AxesImage at 0x1dcdf14d7c8>"
      ]
     },
     "execution_count": 13,
     "metadata": {},
     "output_type": "execute_result"
    },
    {
     "data": {
      "image/png": "[encoded data removed]",
      "text/plain": [
       "<Figure size 432x288 with 1 Axes>"
      ]
     },
     "metadata": {
      "needs_background": "light"
     },
     "output_type": "display_data"
    }
   ],
   "source": [
    "plt.imshow(np.squeeze(env._grab_sct()))"
   ]
  },
  {
   "cell_type": "code",
   "execution_count": 14,
   "metadata": {},
   "outputs": [],
   "source": [
    "import pandas as pd\n",
    "df = pd.read_csv('log/20201005-110006/log.csv')"
   ]
  },
  {
   "cell_type": "code",
   "execution_count": 19,
   "metadata": {},
   "outputs": [
    {
     "data": {
      "text/html": [
       "<div>\n",
       "<style scoped>\n",
       "    .dataframe tbody tr th:only-of-type {\n",
       "        vertical-align: middle;\n",
       "    }\n",
       "\n",
       "    .dataframe tbody tr th {\n",
       "        vertical-align: top;\n",
       "    }\n",
       "\n",
       "    .dataframe thead th {\n",
       "        text-align: right;\n",
       "    }\n",
       "</style>\n",
       "<table border=\"1\" class=\"dataframe\">\n",
       "  <thead>\n",
       "    <tr style=\"text-align: right;\">\n",
       "      <th></th>\n",
       "      <th>epoch</th>\n",
       "      <th>epoch_steps</th>\n",
       "      <th>epoch_rewards</th>\n",
       "      <th>epoch_time</th>\n",
       "      <th>epoch_avg_q</th>\n",
       "      <th>total_steps</th>\n",
       "      <th>epsilon</th>\n",
       "      <th>beta</th>\n",
       "      <th>memory_len</th>\n",
       "      <th>total_run_time</th>\n",
       "      <th>dueling</th>\n",
       "      <th>noisy_net</th>\n",
       "      <th>pretraining_steps</th>\n",
       "    </tr>\n",
       "  </thead>\n",
       "  <tbody>\n",
       "    <tr>\n",
       "      <th>0</th>\n",
       "      <td>0</td>\n",
       "      <td>27</td>\n",
       "      <td>1.39</td>\n",
       "      <td>0 days 00:00:04.900408</td>\n",
       "      <td>-0.013050</td>\n",
       "      <td>28</td>\n",
       "      <td>1</td>\n",
       "      <td>0.4</td>\n",
       "      <td>28</td>\n",
       "      <td>0 days 00:00:18.095474</td>\n",
       "      <td>True</td>\n",
       "      <td>True</td>\n",
       "      <td>10000</td>\n",
       "    </tr>\n",
       "    <tr>\n",
       "      <th>1</th>\n",
       "      <td>1</td>\n",
       "      <td>9</td>\n",
       "      <td>-0.41</td>\n",
       "      <td>0 days 00:00:02.099697</td>\n",
       "      <td>-0.000875</td>\n",
       "      <td>38</td>\n",
       "      <td>1</td>\n",
       "      <td>0.4</td>\n",
       "      <td>38</td>\n",
       "      <td>0 days 00:00:23.827733</td>\n",
       "      <td>True</td>\n",
       "      <td>True</td>\n",
       "      <td>10000</td>\n",
       "    </tr>\n",
       "    <tr>\n",
       "      <th>2</th>\n",
       "      <td>2</td>\n",
       "      <td>19</td>\n",
       "      <td>0.59</td>\n",
       "      <td>0 days 00:00:02.067287</td>\n",
       "      <td>-0.016084</td>\n",
       "      <td>58</td>\n",
       "      <td>1</td>\n",
       "      <td>0.4</td>\n",
       "      <td>58</td>\n",
       "      <td>0 days 00:00:29.512616</td>\n",
       "      <td>True</td>\n",
       "      <td>True</td>\n",
       "      <td>10000</td>\n",
       "    </tr>\n",
       "    <tr>\n",
       "      <th>3</th>\n",
       "      <td>3</td>\n",
       "      <td>8</td>\n",
       "      <td>-0.51</td>\n",
       "      <td>0 days 00:00:02.049646</td>\n",
       "      <td>-0.016080</td>\n",
       "      <td>67</td>\n",
       "      <td>1</td>\n",
       "      <td>0.4</td>\n",
       "      <td>67</td>\n",
       "      <td>0 days 00:00:35.178355</td>\n",
       "      <td>True</td>\n",
       "      <td>True</td>\n",
       "      <td>10000</td>\n",
       "    </tr>\n",
       "    <tr>\n",
       "      <th>4</th>\n",
       "      <td>4</td>\n",
       "      <td>11</td>\n",
       "      <td>-0.21</td>\n",
       "      <td>0 days 00:00:02.198679</td>\n",
       "      <td>-0.006965</td>\n",
       "      <td>79</td>\n",
       "      <td>1</td>\n",
       "      <td>0.4</td>\n",
       "      <td>79</td>\n",
       "      <td>0 days 00:00:40.995698</td>\n",
       "      <td>True</td>\n",
       "      <td>True</td>\n",
       "      <td>10000</td>\n",
       "    </tr>\n",
       "  </tbody>\n",
       "</table>\n",
       "</div>"
      ],
      "text/plain": [
       "   epoch  epoch_steps  epoch_rewards              epoch_time  epoch_avg_q  \\\n",
       "0      0           27           1.39  0 days 00:00:04.900408    -0.013050   \n",
       "1      1            9          -0.41  0 days 00:00:02.099697    -0.000875   \n",
       "2      2           19           0.59  0 days 00:00:02.067287    -0.016084   \n",
       "3      3            8          -0.51  0 days 00:00:02.049646    -0.016080   \n",
       "4      4           11          -0.21  0 days 00:00:02.198679    -0.006965   \n",
       "\n",
       "   total_steps  epsilon  beta  memory_len          total_run_time  dueling  \\\n",
       "0           28        1   0.4          28  0 days 00:00:18.095474     True   \n",
       "1           38        1   0.4          38  0 days 00:00:23.827733     True   \n",
       "2           58        1   0.4          58  0 days 00:00:29.512616     True   \n",
       "3           67        1   0.4          67  0 days 00:00:35.178355     True   \n",
       "4           79        1   0.4          79  0 days 00:00:40.995698     True   \n",
       "\n",
       "   noisy_net  pretraining_steps  \n",
       "0       True              10000  \n",
       "1       True              10000  \n",
       "2       True              10000  \n",
       "3       True              10000  \n",
       "4       True              10000  "
      ]
     },
     "execution_count": 19,
     "metadata": {},
     "output_type": "execute_result"
    }
   ],
   "source": [
    "df.head()"
   ]
  },
  {
   "cell_type": "code",
   "execution_count": 25,
   "metadata": {},
   "outputs": [
    {
     "data": {
      "text/plain": [
       "[<matplotlib.lines.Line2D at 0x1dcfdedc4c8>]"
      ]
     },
     "execution_count": 25,
     "metadata": {},
     "output_type": "execute_result"
    },
    {
     "data": {
      "image/png": "[encoded data removed]",
      "text/plain": [
       "<Figure size 432x288 with 1 Axes>"
      ]
     },
     "metadata": {
      "needs_background": "light"
     },
     "output_type": "display_data"
    }
   ],
   "source": [
    "f = plt.figure()\n",
    "plt.plot(df['epoch_avg_q'])"
   ]
  },
  {
   "cell_type": "code",
   "execution_count": null,
   "metadata": {},
   "outputs": [],
   "source": []
  }
 ],
 "metadata": {
  "kernelspec": {
   "display_name": "Python 3",
   "language": "python",
   "name": "python3"
  },
  "language_info": {
   "codemirror_mode": {
    "name": "ipython",
    "version": 3
   },
   "file_extension": ".py",
   "mimetype": "text/x-python",
   "name": "python",
   "nbconvert_exporter": "python",
   "pygments_lexer": "ipython3",
   "version": "3.7.7"
  }
 },
 "nbformat": 4,
 "nbformat_minor": 4
}
