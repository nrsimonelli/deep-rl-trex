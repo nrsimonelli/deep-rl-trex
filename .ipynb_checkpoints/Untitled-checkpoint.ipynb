{
 "cells": [
  {
   "cell_type": "code",
   "execution_count": 4,
   "metadata": {},
   "outputs": [],
   "source": [
    "import pandas as pd\n",
    "import matplotlib.pyplot as plt\n",
    "df = pd.read_csv('log/20201005-212951/log.csv')"
   ]
  },
  {
   "cell_type": "code",
   "execution_count": 5,
   "metadata": {},
   "outputs": [
    {
     "data": {
      "text/html": [
       "<div>\n",
       "<style scoped>\n",
       "    .dataframe tbody tr th:only-of-type {\n",
       "        vertical-align: middle;\n",
       "    }\n",
       "\n",
       "    .dataframe tbody tr th {\n",
       "        vertical-align: top;\n",
       "    }\n",
       "\n",
       "    .dataframe thead th {\n",
       "        text-align: right;\n",
       "    }\n",
       "</style>\n",
       "<table border=\"1\" class=\"dataframe\">\n",
       "  <thead>\n",
       "    <tr style=\"text-align: right;\">\n",
       "      <th></th>\n",
       "      <th>epoch</th>\n",
       "      <th>epoch_steps</th>\n",
       "      <th>epoch_rewards</th>\n",
       "      <th>epoch_time</th>\n",
       "      <th>epoch_avg_q</th>\n",
       "      <th>total_steps</th>\n",
       "      <th>epsilon</th>\n",
       "      <th>beta</th>\n",
       "      <th>memory_len</th>\n",
       "      <th>total_run_time</th>\n",
       "      <th>dueling</th>\n",
       "      <th>noisy_net</th>\n",
       "      <th>pretraining_steps</th>\n",
       "    </tr>\n",
       "  </thead>\n",
       "  <tbody>\n",
       "    <tr>\n",
       "      <th>0</th>\n",
       "      <td>0</td>\n",
       "      <td>2</td>\n",
       "      <td>-1.1</td>\n",
       "      <td>0 days 00:00:03.000096</td>\n",
       "      <td>0.050418</td>\n",
       "      <td>3</td>\n",
       "      <td>1</td>\n",
       "      <td>0.4</td>\n",
       "      <td>3</td>\n",
       "      <td>0 days 00:00:19.433516</td>\n",
       "      <td>True</td>\n",
       "      <td>True</td>\n",
       "      <td>5000</td>\n",
       "    </tr>\n",
       "    <tr>\n",
       "      <th>1</th>\n",
       "      <td>1</td>\n",
       "      <td>15</td>\n",
       "      <td>0.2</td>\n",
       "      <td>0 days 00:00:02.100173</td>\n",
       "      <td>0.026550</td>\n",
       "      <td>19</td>\n",
       "      <td>1</td>\n",
       "      <td>0.4</td>\n",
       "      <td>19</td>\n",
       "      <td>0 days 00:00:25.168251</td>\n",
       "      <td>True</td>\n",
       "      <td>True</td>\n",
       "      <td>5000</td>\n",
       "    </tr>\n",
       "    <tr>\n",
       "      <th>2</th>\n",
       "      <td>2</td>\n",
       "      <td>9</td>\n",
       "      <td>-0.4</td>\n",
       "      <td>0 days 00:00:02.732038</td>\n",
       "      <td>0.031117</td>\n",
       "      <td>29</td>\n",
       "      <td>1</td>\n",
       "      <td>0.4</td>\n",
       "      <td>29</td>\n",
       "      <td>0 days 00:00:31.517358</td>\n",
       "      <td>True</td>\n",
       "      <td>True</td>\n",
       "      <td>5000</td>\n",
       "    </tr>\n",
       "    <tr>\n",
       "      <th>3</th>\n",
       "      <td>3</td>\n",
       "      <td>9</td>\n",
       "      <td>-0.4</td>\n",
       "      <td>0 days 00:00:02.216827</td>\n",
       "      <td>0.032371</td>\n",
       "      <td>39</td>\n",
       "      <td>1</td>\n",
       "      <td>0.4</td>\n",
       "      <td>39</td>\n",
       "      <td>0 days 00:00:37.351222</td>\n",
       "      <td>True</td>\n",
       "      <td>True</td>\n",
       "      <td>5000</td>\n",
       "    </tr>\n",
       "    <tr>\n",
       "      <th>4</th>\n",
       "      <td>4</td>\n",
       "      <td>15</td>\n",
       "      <td>0.2</td>\n",
       "      <td>0 days 00:00:02.614883</td>\n",
       "      <td>0.029220</td>\n",
       "      <td>55</td>\n",
       "      <td>1</td>\n",
       "      <td>0.4</td>\n",
       "      <td>55</td>\n",
       "      <td>0 days 00:00:43.584162</td>\n",
       "      <td>True</td>\n",
       "      <td>True</td>\n",
       "      <td>5000</td>\n",
       "    </tr>\n",
       "  </tbody>\n",
       "</table>\n",
       "</div>"
      ],
      "text/plain": [
       "   epoch  epoch_steps  epoch_rewards              epoch_time  epoch_avg_q  \\\n",
       "0      0            2           -1.1  0 days 00:00:03.000096     0.050418   \n",
       "1      1           15            0.2  0 days 00:00:02.100173     0.026550   \n",
       "2      2            9           -0.4  0 days 00:00:02.732038     0.031117   \n",
       "3      3            9           -0.4  0 days 00:00:02.216827     0.032371   \n",
       "4      4           15            0.2  0 days 00:00:02.614883     0.029220   \n",
       "\n",
       "   total_steps  epsilon  beta  memory_len          total_run_time  dueling  \\\n",
       "0            3        1   0.4           3  0 days 00:00:19.433516     True   \n",
       "1           19        1   0.4          19  0 days 00:00:25.168251     True   \n",
       "2           29        1   0.4          29  0 days 00:00:31.517358     True   \n",
       "3           39        1   0.4          39  0 days 00:00:37.351222     True   \n",
       "4           55        1   0.4          55  0 days 00:00:43.584162     True   \n",
       "\n",
       "   noisy_net  pretraining_steps  \n",
       "0       True               5000  \n",
       "1       True               5000  \n",
       "2       True               5000  \n",
       "3       True               5000  \n",
       "4       True               5000  "
      ]
     },
     "execution_count": 5,
     "metadata": {},
     "output_type": "execute_result"
    }
   ],
   "source": [
    "df.head()"
   ]
  },
  {
   "cell_type": "code",
   "execution_count": 6,
   "metadata": {},
   "outputs": [
    {
     "data": {
      "text/plain": [
       "[<matplotlib.lines.Line2D at 0x1c8b1b2ce88>]"
      ]
     },
     "execution_count": 6,
     "metadata": {},
     "output_type": "execute_result"
    },
    {
     "data": {
      "image/png": "[encoded data removed]",
      "text/plain": [
       "<Figure size 432x288 with 1 Axes>"
      ]
     },
     "metadata": {
      "needs_background": "light"
     },
     "output_type": "display_data"
    }
   ],
   "source": [
    "f = plt.figure()\n",
    "plt.plot(df['epoch_avg_q'])"
   ]
  },
  {
   "cell_type": "code",
   "execution_count": 29,
   "metadata": {},
   "outputs": [],
   "source": [
    "import seaborn as sns"
   ]
  },
  {
   "cell_type": "code",
   "execution_count": 32,
   "metadata": {},
   "outputs": [
    {
     "ename": "TypeError",
     "evalue": "'RangeIndex' object is not callable",
     "output_type": "error",
     "traceback": [
      "\u001b[1;31m---------------------------------------------------------------------------\u001b[0m",
      "\u001b[1;31mTypeError\u001b[0m                                 Traceback (most recent call last)",
      "\u001b[1;32m<ipython-input-32-ea97f2d5e5e0>\u001b[0m in \u001b[0;36m<module>\u001b[1;34m\u001b[0m\n\u001b[1;32m----> 1\u001b[1;33m \u001b[0msns\u001b[0m\u001b[1;33m.\u001b[0m\u001b[0mregplot\u001b[0m\u001b[1;33m(\u001b[0m\u001b[0mx\u001b[0m\u001b[1;33m=\u001b[0m\u001b[0mdf\u001b[0m\u001b[1;33m.\u001b[0m\u001b[0mindex\u001b[0m\u001b[1;33m(\u001b[0m\u001b[1;33m)\u001b[0m\u001b[1;33m)\u001b[0m\u001b[1;33m\u001b[0m\u001b[1;33m\u001b[0m\u001b[0m\n\u001b[0m",
      "\u001b[1;31mTypeError\u001b[0m: 'RangeIndex' object is not callable"
     ]
    }
   ],
   "source": []
  },
  {
   "cell_type": "code",
   "execution_count": 7,
   "metadata": {},
   "outputs": [
    {
     "data": {
      "text/plain": [
       "[<matplotlib.lines.Line2D at 0x1c8b1bdf748>]"
      ]
     },
     "execution_count": 7,
     "metadata": {},
     "output_type": "execute_result"
    },
    {
     "data": {
      "image/png": "[encoded data removed]",
      "text/plain": [
       "<Figure size 432x288 with 1 Axes>"
      ]
     },
     "metadata": {
      "needs_background": "light"
     },
     "output_type": "display_data"
    }
   ],
   "source": [
    "f = plt.figure()\n",
    "plt.plot(df['epoch_rewards'])"
   ]
  },
  {
   "cell_type": "code",
   "execution_count": 17,
   "metadata": {},
   "outputs": [],
   "source": [
    "from sklearn.linear_model import LinearRegression\n",
    "import numpy as np"
   ]
  },
  {
   "cell_type": "code",
   "execution_count": 15,
   "metadata": {},
   "outputs": [],
   "source": [
    "lin = LinearRegression()\n",
    "\n",
    "X = df[df['epoch']>600]['epoch'].values\n",
    "y = df[df['epoch']>600]['epoch_rewards'].values"
   ]
  },
  {
   "cell_type": "code",
   "execution_count": 19,
   "metadata": {},
   "outputs": [
    {
     "data": {
      "text/plain": [
       "LinearRegression()"
      ]
     },
     "execution_count": 19,
     "metadata": {},
     "output_type": "execute_result"
    }
   ],
   "source": [
    "lin.fit(np.expand_dims(X, axis=1), y)"
   ]
  },
  {
   "cell_type": "code",
   "execution_count": 25,
   "metadata": {},
   "outputs": [],
   "source": [
    "ypred = lin.predict(np.expand_dims(df['epoch'], axis=1))"
   ]
  },
  {
   "cell_type": "code",
   "execution_count": 26,
   "metadata": {},
   "outputs": [],
   "source": [
    "df['ypred'] = ypred"
   ]
  },
  {
   "cell_type": "code",
   "execution_count": 28,
   "metadata": {},
   "outputs": [
    {
     "data": {
      "text/plain": [
       "<matplotlib.axes._subplots.AxesSubplot at 0x1c8b50451c8>"
      ]
     },
     "execution_count": 28,
     "metadata": {},
     "output_type": "execute_result"
    },
    {
     "data": {
      "image/png": "[encoded data removed]",
      "text/plain": [
       "<Figure size 432x288 with 1 Axes>"
      ]
     },
     "metadata": {
      "needs_background": "light"
     },
     "output_type": "display_data"
    }
   ],
   "source": [
    "df['ypred'].plot()"
   ]
  },
  {
   "cell_type": "code",
   "execution_count": null,
   "metadata": {},
   "outputs": [],
   "source": []
  }
 ],
 "metadata": {
  "kernelspec": {
   "display_name": "Python 3",
   "language": "python",
   "name": "python3"
  },
  "language_info": {
   "codemirror_mode": {
    "name": "ipython",
    "version": 3
   },
   "file_extension": ".py",
   "mimetype": "text/x-python",
   "name": "python",
   "nbconvert_exporter": "python",
   "pygments_lexer": "ipython3",
   "version": "3.7.7"
  }
 },
 "nbformat": 4,
 "nbformat_minor": 4
}
